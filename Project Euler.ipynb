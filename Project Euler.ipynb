{
 "cells": [
  {
   "cell_type": "code",
   "execution_count": 7,
   "metadata": {},
   "outputs": [
    {
     "name": "stdout",
     "output_type": "stream",
     "text": [
      "233168\n"
     ]
    }
   ],
   "source": [
    "# Question 1: Find the sum of all the multiples of 3 or 5 below 1000\n",
    "\n",
    "n = 0  \n",
    "for i in range(1,1000):  \n",
    "     if not i % 5 or not i % 3:  \n",
    "         n = n + i  \n",
    "print(n) "
   ]
  },
  {
   "cell_type": "code",
   "execution_count": 5,
   "metadata": {},
   "outputs": [
    {
     "name": "stdout",
     "output_type": "stream",
     "text": [
      "4613732\n"
     ]
    }
   ],
   "source": [
    "# Question 2: By considering the terms in the Fibonacci sequence whose values do not exceed four million, \n",
    "# find the sum of the even-valued terms.\n",
    "\n",
    "cache = {}  \n",
    "def fiba(n):  \n",
    "     cache[n] = cache.get(n, 0) or (n <= 1 and 1 or fiba(n-1) + fiba(n-2))  \n",
    "     return cache[n]  \n",
    "n = 0  \n",
    "x = 0  \n",
    "while fiba(x) <= 4000000:  \n",
    "       if not fiba(x) % 2: n = n + fiba(x)   \n",
    "       x+=1  \n",
    "print(n) "
   ]
  },
  {
   "cell_type": "code",
   "execution_count": 8,
   "metadata": {},
   "outputs": [
    {
     "name": "stdout",
     "output_type": "stream",
     "text": [
      "6857\n"
     ]
    }
   ],
   "source": [
    "# Question 3: What is the largest prime factor of the number 600851475143 ?\n",
    "\n",
    "num = 600851475143  \n",
    "i = 2  \n",
    "while i * i < num:  \n",
    "     while num % i == 0:  \n",
    "         num = num / i  \n",
    "     i = i + 1  \n",
    "print(num)  "
   ]
  },
  {
   "cell_type": "code",
   "execution_count": null,
   "metadata": {},
   "outputs": [],
   "source": []
  },
  {
   "cell_type": "code",
   "execution_count": null,
   "metadata": {},
   "outputs": [],
   "source": []
  }
 ],
 "metadata": {
  "kernelspec": {
   "display_name": "Python 2",
   "language": "python",
   "name": "python2"
  },
  "language_info": {
   "codemirror_mode": {
    "name": "ipython",
    "version": 2
   },
   "file_extension": ".py",
   "mimetype": "text/x-python",
   "name": "python",
   "nbconvert_exporter": "python",
   "pygments_lexer": "ipython2",
   "version": "2.7.13"
  }
 },
 "nbformat": 4,
 "nbformat_minor": 2
}
